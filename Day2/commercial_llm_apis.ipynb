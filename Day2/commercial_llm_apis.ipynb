{
  "nbformat": 4,
  "nbformat_minor": 0,
  "metadata": {
    "colab": {
      "provenance": []
    },
    "kernelspec": {
      "name": "python3",
      "display_name": "Python 3"
    },
    "language_info": {
      "name": "python"
    }
  },
  "cells": [
    {
      "cell_type": "markdown",
      "source": [
        "# Leveraging comercially available LLM APIs.\n",
        "\n",
        "---\n",
        "You must be already familiar with Web-based UIs for interacting with LLMs - ChatGPT, BARD being few of them.\n",
        "\n",
        "But if you are building apps or tools that leverage such LLMs you would need to interact with them using code.\n",
        "\n",
        "In this notebook we will interact with commercially available LLM APIs, and try to carry out tasks like\n",
        "- Classification\n",
        "- Summarization\n",
        "- Simple Generation\n",
        "\n",
        "We will be using [Cohere](https://cohere.com/) APIs. Lets go!\n",
        "\n",
        "[Source/Reference: Cohere Docs](https://docs.cohere.com/reference/intent-recognition)\n",
        "\n",
        "---\n",
        "\n"
      ],
      "metadata": {
        "id": "CehDPwHkOmTM"
      }
    },
    {
      "cell_type": "code",
      "execution_count": 1,
      "metadata": {
        "id": "_H2Whdrtlndl",
        "colab": {
          "base_uri": "https://localhost:8080/"
        },
        "outputId": "cd10956c-912e-4839-a176-da791dd6675a"
      },
      "outputs": [
        {
          "output_type": "stream",
          "name": "stdout",
          "text": [
            "Collecting cohere\n",
            "  Downloading cohere-5.2.5-py3-none-any.whl (150 kB)\n",
            "\u001b[2K     \u001b[90m━━━━━━━━━━━━━━━━━━━━━━━━━━━━━━━━━━━━━━━━\u001b[0m \u001b[32m150.6/150.6 kB\u001b[0m \u001b[31m1.4 MB/s\u001b[0m eta \u001b[36m0:00:00\u001b[0m\n",
            "\u001b[?25hCollecting fastavro<2.0.0,>=1.9.4 (from cohere)\n",
            "  Downloading fastavro-1.9.4-cp310-cp310-manylinux_2_17_x86_64.manylinux2014_x86_64.whl (3.1 MB)\n",
            "\u001b[2K     \u001b[90m━━━━━━━━━━━━━━━━━━━━━━━━━━━━━━━━━━━━━━━━\u001b[0m \u001b[32m3.1/3.1 MB\u001b[0m \u001b[31m17.4 MB/s\u001b[0m eta \u001b[36m0:00:00\u001b[0m\n",
            "\u001b[?25hCollecting httpx>=0.21.2 (from cohere)\n",
            "  Downloading httpx-0.27.0-py3-none-any.whl (75 kB)\n",
            "\u001b[2K     \u001b[90m━━━━━━━━━━━━━━━━━━━━━━━━━━━━━━━━━━━━━━━━\u001b[0m \u001b[32m75.6/75.6 kB\u001b[0m \u001b[31m6.0 MB/s\u001b[0m eta \u001b[36m0:00:00\u001b[0m\n",
            "\u001b[?25hRequirement already satisfied: pydantic>=1.9.2 in /usr/local/lib/python3.10/dist-packages (from cohere) (2.6.4)\n",
            "Requirement already satisfied: requests<3.0.0,>=2.0.0 in /usr/local/lib/python3.10/dist-packages (from cohere) (2.31.0)\n",
            "Requirement already satisfied: tokenizers<0.16.0,>=0.15.2 in /usr/local/lib/python3.10/dist-packages (from cohere) (0.15.2)\n",
            "Collecting types-requests<3.0.0,>=2.0.0 (from cohere)\n",
            "  Downloading types_requests-2.31.0.20240406-py3-none-any.whl (15 kB)\n",
            "Requirement already satisfied: typing_extensions>=4.0.0 in /usr/local/lib/python3.10/dist-packages (from cohere) (4.11.0)\n",
            "Requirement already satisfied: anyio in /usr/local/lib/python3.10/dist-packages (from httpx>=0.21.2->cohere) (3.7.1)\n",
            "Requirement already satisfied: certifi in /usr/local/lib/python3.10/dist-packages (from httpx>=0.21.2->cohere) (2024.2.2)\n",
            "Collecting httpcore==1.* (from httpx>=0.21.2->cohere)\n",
            "  Downloading httpcore-1.0.5-py3-none-any.whl (77 kB)\n",
            "\u001b[2K     \u001b[90m━━━━━━━━━━━━━━━━━━━━━━━━━━━━━━━━━━━━━━━━\u001b[0m \u001b[32m77.9/77.9 kB\u001b[0m \u001b[31m6.7 MB/s\u001b[0m eta \u001b[36m0:00:00\u001b[0m\n",
            "\u001b[?25hRequirement already satisfied: idna in /usr/local/lib/python3.10/dist-packages (from httpx>=0.21.2->cohere) (3.6)\n",
            "Requirement already satisfied: sniffio in /usr/local/lib/python3.10/dist-packages (from httpx>=0.21.2->cohere) (1.3.1)\n",
            "Collecting h11<0.15,>=0.13 (from httpcore==1.*->httpx>=0.21.2->cohere)\n",
            "  Downloading h11-0.14.0-py3-none-any.whl (58 kB)\n",
            "\u001b[2K     \u001b[90m━━━━━━━━━━━━━━━━━━━━━━━━━━━━━━━━━━━━━━━━\u001b[0m \u001b[32m58.3/58.3 kB\u001b[0m \u001b[31m5.0 MB/s\u001b[0m eta \u001b[36m0:00:00\u001b[0m\n",
            "\u001b[?25hRequirement already satisfied: annotated-types>=0.4.0 in /usr/local/lib/python3.10/dist-packages (from pydantic>=1.9.2->cohere) (0.6.0)\n",
            "Requirement already satisfied: pydantic-core==2.16.3 in /usr/local/lib/python3.10/dist-packages (from pydantic>=1.9.2->cohere) (2.16.3)\n",
            "Requirement already satisfied: charset-normalizer<4,>=2 in /usr/local/lib/python3.10/dist-packages (from requests<3.0.0,>=2.0.0->cohere) (3.3.2)\n",
            "Requirement already satisfied: urllib3<3,>=1.21.1 in /usr/local/lib/python3.10/dist-packages (from requests<3.0.0,>=2.0.0->cohere) (2.0.7)\n",
            "Requirement already satisfied: huggingface_hub<1.0,>=0.16.4 in /usr/local/lib/python3.10/dist-packages (from tokenizers<0.16.0,>=0.15.2->cohere) (0.20.3)\n",
            "Requirement already satisfied: filelock in /usr/local/lib/python3.10/dist-packages (from huggingface_hub<1.0,>=0.16.4->tokenizers<0.16.0,>=0.15.2->cohere) (3.13.4)\n",
            "Requirement already satisfied: fsspec>=2023.5.0 in /usr/local/lib/python3.10/dist-packages (from huggingface_hub<1.0,>=0.16.4->tokenizers<0.16.0,>=0.15.2->cohere) (2023.6.0)\n",
            "Requirement already satisfied: tqdm>=4.42.1 in /usr/local/lib/python3.10/dist-packages (from huggingface_hub<1.0,>=0.16.4->tokenizers<0.16.0,>=0.15.2->cohere) (4.66.2)\n",
            "Requirement already satisfied: pyyaml>=5.1 in /usr/local/lib/python3.10/dist-packages (from huggingface_hub<1.0,>=0.16.4->tokenizers<0.16.0,>=0.15.2->cohere) (6.0.1)\n",
            "Requirement already satisfied: packaging>=20.9 in /usr/local/lib/python3.10/dist-packages (from huggingface_hub<1.0,>=0.16.4->tokenizers<0.16.0,>=0.15.2->cohere) (24.0)\n",
            "Requirement already satisfied: exceptiongroup in /usr/local/lib/python3.10/dist-packages (from anyio->httpx>=0.21.2->cohere) (1.2.0)\n",
            "Installing collected packages: types-requests, h11, fastavro, httpcore, httpx, cohere\n",
            "Successfully installed cohere-5.2.5 fastavro-1.9.4 h11-0.14.0 httpcore-1.0.5 httpx-0.27.0 types-requests-2.31.0.20240406\n"
          ]
        }
      ],
      "source": [
        "!pip install cohere"
      ]
    },
    {
      "cell_type": "code",
      "source": [
        "from getpass import getpass\n",
        "api_key = getpass('Enter the secret value: ')"
      ],
      "metadata": {
        "id": "hgbiRX_IoPnz",
        "colab": {
          "base_uri": "https://localhost:8080/"
        },
        "outputId": "74aae29e-d526-4db0-9205-710df1c54b06"
      },
      "execution_count": 2,
      "outputs": [
        {
          "name": "stdout",
          "output_type": "stream",
          "text": [
            "Enter the secret value: ··········\n"
          ]
        }
      ]
    },
    {
      "cell_type": "markdown",
      "source": [
        "## Intent Classification\n",
        "\n",
        "- classifying the intent of customer inquiries on an eCommerce website into Shipping and handling policy, Start return or exchange, or Track order.\n",
        "\n",
        "\n",
        "- https://api.cohere.ai/v1/classify uses a few examples to create a classifier from a generative model .In the background, it constructs a few-shot classification prompt and uses it classify the input texts you pass to it.\n",
        "\n",
        "\n"
      ],
      "metadata": {
        "id": "ddnw4Xe_mOVv"
      }
    },
    {
      "cell_type": "code",
      "source": [
        "import cohere\n",
        "from cohere import ClassifyExample\n",
        "\n",
        "co = cohere.Client(api_key)\n",
        "\n",
        "\n",
        "\n",
        "'''\n",
        "Training examples we give the model to show the classes we want it to classify\n",
        "Each example contains the text itself and the corresponding label, or class. The minimum number of examples required is five per class.\n",
        "'''\n",
        "examples=[\n",
        "  ClassifyExample(text = \"Do you offer same day shipping?\", label = \"Shipping and handling policy\"),\n",
        "  ClassifyExample(text = \"Can you ship to Italy?\", label = \"Shipping and handling policy\"),\n",
        "  ClassifyExample(text = \"How long does shipping take?\", label = \"Shipping and handling policy\"),\n",
        "  ClassifyExample(text = \"Can I buy online and pick up in store?\", label = \"Shipping and handling policy\"),\n",
        "  ClassifyExample(text = \"What are your shipping options?\", label = \"Shipping and handling policy\"),\n",
        "  ClassifyExample(text = \"My order arrived damaged, can I get a refund?\", label = \"Start return or exchange\"),\n",
        "  ClassifyExample(text = \"You sent me the wrong item\", label = \"Start return or exchange\"),\n",
        "  ClassifyExample(text = \"I want to exchange my item for another colour\", label = \"Start return or exchange\"),\n",
        "  ClassifyExample(text = \"I ordered something and it wasn't what I expected. Can I return it?\", label = \"Start return or exchange\"),\n",
        "  ClassifyExample(text = \"What's your return policy?\", label = \"Start return or exchange\"),\n",
        "  ClassifyExample(text = \"Where's my package?\", label = \"Track order\"),\n",
        "  ClassifyExample(text = \"When will my order arrive?\", label = \"Track order\"),\n",
        "  ClassifyExample(text = \"What's my shipping number?\", label = \"Track order\"),\n",
        "  ClassifyExample(text = \"Which carrier is my package with?\", label = \"Track order\"),\n",
        "  ClassifyExample(text = \"Is my package delayed?\", label = \"Track order\"),\n",
        "]\n",
        "inputs=[\n",
        "  \"Am I still able to return my order?\",\n",
        "  \"When can I expect my package?\",\n",
        "  \"Do you ship overseas?\",\n",
        "]\n",
        "\n",
        "response = co.classify(\n",
        "  inputs=inputs,\n",
        "  examples=examples,\n",
        ")\n",
        "print(response)"
      ],
      "metadata": {
        "id": "zz75UdkymCWm",
        "colab": {
          "base_uri": "https://localhost:8080/"
        },
        "outputId": "78d8badc-c9de-4da6-fe67-1cc584286763"
      },
      "execution_count": 4,
      "outputs": [
        {
          "output_type": "stream",
          "name": "stdout",
          "text": [
            "id='e9a5cb93-eea9-4bc3-95ec-bf3a860f0320' classifications=[ClassifyResponseClassificationsItem(id='2f673b3d-27e1-47d7-b91b-0c704060ee6a', input='Am I still able to return my order?', prediction='Start return or exchange', predictions=['Start return or exchange'], confidence=0.9933396, confidences=[0.9933396], labels={'Shipping and handling policy': ClassifyResponseClassificationsItemLabelsValue(confidence=0.0027134062), 'Start return or exchange': ClassifyResponseClassificationsItemLabelsValue(confidence=0.9933396), 'Track order': ClassifyResponseClassificationsItemLabelsValue(confidence=0.003947017)}, classification_type='single-label'), ClassifyResponseClassificationsItem(id='25bd35f5-8aba-4396-b6fb-fa656a7078c6', input='When can I expect my package?', prediction='Track order', predictions=['Track order'], confidence=0.9955387, confidences=[0.9955387], labels={'Shipping and handling policy': ClassifyResponseClassificationsItemLabelsValue(confidence=0.0040009124), 'Start return or exchange': ClassifyResponseClassificationsItemLabelsValue(confidence=0.00046039946), 'Track order': ClassifyResponseClassificationsItemLabelsValue(confidence=0.9955387)}, classification_type='single-label'), ClassifyResponseClassificationsItem(id='392ac894-eeb7-4e29-bb25-586c56554a26', input='Do you ship overseas?', prediction='Shipping and handling policy', predictions=['Shipping and handling policy'], confidence=0.999675, confidences=[0.999675], labels={'Shipping and handling policy': ClassifyResponseClassificationsItemLabelsValue(confidence=0.999675), 'Start return or exchange': ClassifyResponseClassificationsItemLabelsValue(confidence=0.00027763066), 'Track order': ClassifyResponseClassificationsItemLabelsValue(confidence=4.7405712e-05)}, classification_type='single-label')] meta=ApiMeta(api_version=ApiMetaApiVersion(version='1', is_deprecated=None, is_experimental=None), billed_units=ApiMetaBilledUnits(input_tokens=None, output_tokens=None, search_units=None, classifications=3), tokens=None, warnings=None)\n"
          ]
        }
      ]
    },
    {
      "cell_type": "markdown",
      "source": [
        "## Summarization\n",
        "\n",
        "[Summarize API Doc](https://docs.cohere.com/reference/summarize-2)"
      ],
      "metadata": {
        "id": "af63GKFmPyEv"
      }
    },
    {
      "cell_type": "code",
      "source": [
        "import cohere\n",
        "co = cohere.Client(api_key) # This is your trial API key\n",
        "\n",
        "response = co.summarize(\n",
        "text='''Passage: Is Wordle getting tougher to solve? Players seem to be convinced that the game has gotten harder in recent weeks ever since \\\n",
        "The New York Times bought it from developer Josh Wardle in late January. The Times has come forward and shared that this likely isn’t the case. \\\n",
        "That said, the NYT did mess with the back end code a bit, removing some offensive and sexual language, as well as some obscure words There is \\\n",
        "a viral thread claiming that a confirmation bias was at play. One Twitter user went so far as to claim the game has gone to “the dusty section \\\n",
        "of the dictionary” to find its latest words.\n",
        "TLDR: Wordle has not gotten more difficult to solve.\n",
        "\n",
        "--\n",
        "\n",
        "Passage: ArtificialIvan, a seven-year-old, London-based payment and expense management software company, has raised $190 million in Series C \\\n",
        "funding led by ARG Global, with participation from D9 Capital Group and Boulder Capital. Earlier backers also joined the round, including \\\n",
        "Hilton Group, Roxanne Capital, Paved Roads Ventures, Brook Partners, and Plato Capital.\n",
        "TLDR: ArtificialIvan has raised $190 million in Series C funding.\n",
        "\n",
        "--\n",
        "\n",
        "Passage: The National Weather Service announced Tuesday that a freeze warning is in effect for the Bay Area, with freezing temperatures expected \\\n",
        "in these areas overnight. Temperatures could fall into the mid-20s to low 30s in some areas. In anticipation of the hard freeze, the weather \\\n",
        "service warns people to take action now.\n",
        "TLDR:''',\n",
        "length='auto',\n",
        "format='auto',\n",
        "model='command',\n",
        "additional_command='',\n",
        "temperature=0.8,\n",
        ")\n",
        "\n",
        "print('Summary:', response.summary)"
      ],
      "metadata": {
        "id": "US1sAXaEnXRX",
        "colab": {
          "base_uri": "https://localhost:8080/"
        },
        "outputId": "d7792406-4636-4f3e-bb2c-232ed1e3c3ab"
      },
      "execution_count": 5,
      "outputs": [
        {
          "output_type": "stream",
          "name": "stdout",
          "text": [
            "Summary: The National Weather Service has issued a freeze warning for the Bay Area because temperatures are expected to drop into the mid-20s and low 30s. People are advised to take action in advance of the freeze.\n"
          ]
        }
      ]
    },
    {
      "cell_type": "markdown",
      "source": [
        "## Simple Generation\n",
        "\n",
        "[Generate API Doc](https://docs.cohere.com/reference/generate)"
      ],
      "metadata": {
        "id": "DTefh3lURRZP"
      }
    },
    {
      "cell_type": "code",
      "source": [
        "import cohere\n",
        "co = cohere.Client('4sa6zTNVa8RZGdWzBdhUWexlk74CzRAJjHDO4rAK') # This is your trial API key\n",
        "response = co.generate(\n",
        "  model='command',\n",
        "  prompt='''Write a LinkedIn post about how exciting it was to conduct a day long workshop on Large Langauge Models in an Engineering college named XYZ, \\\n",
        "  while stressing on how interactive and curious the students were, and how helpful the Institution was to facilitate it..''',\n",
        "  max_tokens=300,\n",
        "  temperature=0.9,\n",
        "  k=0,\n",
        "  stop_sequences=[],\n",
        "  return_likelihoods='NONE')\n",
        "print('Prediction: {}'.format(response.generations[0].text))"
      ],
      "metadata": {
        "id": "eA_IVPQ1ujvq",
        "colab": {
          "base_uri": "https://localhost:8080/"
        },
        "outputId": "85510115-c332-46df-af1f-69802aec23dd"
      },
      "execution_count": 6,
      "outputs": [
        {
          "output_type": "stream",
          "name": "stdout",
          "text": [
            "Prediction:  🔥exciting workshop💡 \n",
            "\n",
            "It was a pleasure to conduct a day-long workshop on Large Langauge Models at the prestigious XYZ Engineering College. The students were incredibly interactive and curious, making it an enriching and insightful experience for me as well. \n",
            "\n",
            "The institution was exceedingly helpful in facilitating the workshop and ensuring it was a success. Right from accommodating all the requirements to taking care of the logistics, they ensured that everything was taken care of. \n",
            "\n",
            "The future of AI is undoubtedly bright, with such passionate and eager minds at the forefront. Looking forward to more such interactions! \n",
            "\n",
            "Thank you to the entire team at XYZ Engineering College for the support and assistance in making the workshop a huge success. \n",
            "\n",
            "#LargeLangaugeModels #AI #ML #TomorrowLeadsToday \n"
          ]
        }
      ]
    }
  ]
}